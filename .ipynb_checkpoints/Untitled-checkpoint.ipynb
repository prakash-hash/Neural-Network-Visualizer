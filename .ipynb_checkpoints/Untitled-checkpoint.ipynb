{
 "cells": [
  {
   "cell_type": "markdown",
   "metadata": {},
   "source": [
    "# Importing libraries"
   ]
  },
  {
   "cell_type": "code",
   "execution_count": 1,
   "metadata": {},
   "outputs": [
    {
     "name": "stdout",
     "output_type": "stream",
     "text": [
      "tensorflow version: 2.3.0\n"
     ]
    }
   ],
   "source": [
    "import tensorflow as tf\n",
    "print(\"tensorflow version:\",tf.__version__)"
   ]
  },
  {
   "cell_type": "markdown",
   "metadata": {},
   "source": [
    "# Downloading and splitting the dataset into train and test"
   ]
  },
  {
   "cell_type": "code",
   "execution_count": 2,
   "metadata": {},
   "outputs": [],
   "source": [
    "from tensorflow.keras.datasets import mnist\n",
    "(x_train, y_train),(x_test, y_test) = mnist.load_data()"
   ]
  },
  {
   "cell_type": "markdown",
   "metadata": {},
   "source": [
    "# Checking the shape"
   ]
  },
  {
   "cell_type": "code",
   "execution_count": 3,
   "metadata": {},
   "outputs": [
    {
     "name": "stdout",
     "output_type": "stream",
     "text": [
      "x_train shape: (60000, 28, 28)\n",
      "y_train shape: (60000,)\n",
      "x_test shape: (10000, 28, 28)\n",
      "y_test shape: (10000,)\n"
     ]
    }
   ],
   "source": [
    "print(\"x_train shape:\", x_train.shape)\n",
    "print(\"y_train shape:\", y_train.shape)\n",
    "print(\"x_test shape:\", x_test.shape)\n",
    "print(\"y_test shape:\", y_test.shape)"
   ]
  },
  {
   "cell_type": "markdown",
   "metadata": {},
   "source": [
    "# Plotting an example"
   ]
  },
  {
   "cell_type": "code",
   "execution_count": 4,
   "metadata": {},
   "outputs": [
    {
     "data": {
      "text/plain": [
       "<matplotlib.image.AxesImage at 0x2694e70aa60>"
      ]
     },
     "execution_count": 4,
     "metadata": {},
     "output_type": "execute_result"
    },
    {
     "data": {
      "image/png": "[encoded data removed]",
      "text/plain": [
       "<Figure size 864x864 with 2 Axes>"
      ]
     },
     "metadata": {
      "needs_background": "light"
     },
     "output_type": "display_data"
    }
   ],
   "source": [
    "import matplotlib.pyplot as plt\n",
    "\n",
    "plt.figure(figsize=(12,12))\n",
    "plt.subplot(1,2,1)\n",
    "plt.imshow(x_train[1],cmap='binary')\n",
    "plt.subplot(1,2,2)\n",
    "plt.imshow(x_train[1])"
   ]
  },
  {
   "cell_type": "markdown",
   "metadata": {},
   "source": [
    "## checking the target values"
   ]
  },
  {
   "cell_type": "code",
   "execution_count": 5,
   "metadata": {},
   "outputs": [
    {
     "data": {
      "text/plain": [
       "0"
      ]
     },
     "execution_count": 5,
     "metadata": {},
     "output_type": "execute_result"
    }
   ],
   "source": [
    "y_train[1]"
   ]
  },
  {
   "cell_type": "markdown",
   "metadata": {},
   "source": [
    "# Extracting all the unique labels"
   ]
  },
  {
   "cell_type": "code",
   "execution_count": 6,
   "metadata": {},
   "outputs": [
    {
     "name": "stdout",
     "output_type": "stream",
     "text": [
      "{0, 1, 2, 3, 4, 5, 6, 7, 8, 9}\n"
     ]
    }
   ],
   "source": [
    "print(set(y_train))"
   ]
  },
  {
   "cell_type": "markdown",
   "metadata": {},
   "source": [
    "# One-hot Encoding the target values"
   ]
  },
  {
   "cell_type": "code",
   "execution_count": 7,
   "metadata": {},
   "outputs": [],
   "source": [
    "from tensorflow.keras.utils import to_categorical\n",
    "\n",
    "y_train_encoded = to_categorical(y_train)\n",
    "y_test_encoded = to_categorical(y_test)"
   ]
  },
  {
   "cell_type": "markdown",
   "metadata": {},
   "source": [
    "# Validating the target shape"
   ]
  },
  {
   "cell_type": "code",
   "execution_count": 8,
   "metadata": {},
   "outputs": [
    {
     "name": "stdout",
     "output_type": "stream",
     "text": [
      "y_train_encoded shape: (60000, 10)\n",
      "y_test_encoded shape: (10000, 10)\n"
     ]
    }
   ],
   "source": [
    "print(\"y_train_encoded shape:\",y_train_encoded.shape)\n",
    "print(\"y_test_encoded shape:\",y_test_encoded.shape)"
   ]
  },
  {
   "cell_type": "markdown",
   "metadata": {},
   "source": [
    "## checking one of the encoded target value"
   ]
  },
  {
   "cell_type": "code",
   "execution_count": 9,
   "metadata": {},
   "outputs": [
    {
     "name": "stdout",
     "output_type": "stream",
     "text": [
      "[1. 0. 0. 0. 0. 0. 0. 0. 0. 0.]\n"
     ]
    }
   ],
   "source": [
    "print(y_train_encoded[1])"
   ]
  },
  {
   "cell_type": "markdown",
   "metadata": {},
   "source": [
    "# Flatning the images "
   ]
  },
  {
   "cell_type": "code",
   "execution_count": 10,
   "metadata": {},
   "outputs": [
    {
     "name": "stdout",
     "output_type": "stream",
     "text": [
      "x_train_reshaped shape: (60000, 784)\n",
      "x_test_reshaped shape: (10000, 784)\n"
     ]
    }
   ],
   "source": [
    "import numpy as np\n",
    "\n",
    "x_train_reshped = np.reshape(x_train, (60000, 784))\n",
    "x_test_reshped = np.reshape(x_test, (10000, 784))\n",
    "\n",
    "print(\"x_train_reshaped shape:\",x_train_reshped.shape)\n",
    "print(\"x_test_reshaped shape:\",x_test_reshped.shape)"
   ]
  },
  {
   "cell_type": "markdown",
   "metadata": {},
   "source": [
    "## Example of flatanned image"
   ]
  },
  {
   "cell_type": "code",
   "execution_count": 11,
   "metadata": {},
   "outputs": [
    {
     "name": "stdout",
     "output_type": "stream",
     "text": [
      "{0, 6, 7, 10, 12, 19, 21, 25, 28, 29, 37, 38, 47, 48, 50, 51, 54, 56, 57, 60, 63, 71, 75, 76, 79, 84, 85, 86, 96, 112, 114, 121, 122, 128, 130, 131, 135, 141, 145, 146, 148, 159, 162, 163, 165, 167, 168, 173, 178, 179, 186, 189, 190, 195, 196, 198, 199, 202, 208, 215, 223, 224, 225, 227, 228, 229, 230, 233, 237, 238, 239, 240, 243, 246, 249, 252, 253, 255}\n"
     ]
    }
   ],
   "source": [
    "print(set(x_train_reshped[1]))"
   ]
  },
  {
   "cell_type": "markdown",
   "metadata": {},
   "source": [
    "# Normalising the dataset"
   ]
  },
  {
   "cell_type": "code",
   "execution_count": 12,
   "metadata": {},
   "outputs": [],
   "source": [
    "x_mean = np.mean(x_train_reshped)\n",
    "x_std = np.std(x_train_reshped)\n",
    "\n",
    "epsilon = 1e-10\n",
    "\n",
    "x_train_normalised = (x_train_reshped - x_mean)/(x_std+epsilon)\n",
    "x_test_normalised = (x_test_reshped - x_mean)/(x_std+epsilon)"
   ]
  },
  {
   "cell_type": "code",
   "execution_count": 13,
   "metadata": {},
   "outputs": [
    {
     "name": "stdout",
     "output_type": "stream",
     "text": [
      "[[-0.42407389 -0.42407389 -0.42407389 ... -0.42407389 -0.42407389\n",
      "  -0.42407389]\n",
      " [-0.42407389 -0.42407389 -0.42407389 ... -0.42407389 -0.42407389\n",
      "  -0.42407389]\n",
      " [-0.42407389 -0.42407389 -0.42407389 ... -0.42407389 -0.42407389\n",
      "  -0.42407389]\n",
      " ...\n",
      " [-0.42407389 -0.42407389 -0.42407389 ... -0.42407389 -0.42407389\n",
      "  -0.42407389]\n",
      " [-0.42407389 -0.42407389 -0.42407389 ... -0.42407389 -0.42407389\n",
      "  -0.42407389]\n",
      " [-0.42407389 -0.42407389 -0.42407389 ... -0.42407389 -0.42407389\n",
      "  -0.42407389]]\n"
     ]
    }
   ],
   "source": [
    "print(x_train_normalised)"
   ]
  },
  {
   "cell_type": "markdown",
   "metadata": {},
   "source": [
    "# Creating Neural Network model"
   ]
  },
  {
   "cell_type": "code",
   "execution_count": 14,
   "metadata": {},
   "outputs": [],
   "source": [
    "from tensorflow.keras.models import Sequential\n",
    "from tensorflow.keras.layers import Dense\n",
    "\n",
    "model = Sequential([\n",
    "    Dense(32, activation='sigmoid', input_shape=(784,)),\n",
    "    Dense(32, activation='sigmoid'),\n",
    "    Dense(10, activation='softmax')\n",
    "]\n",
    ")"
   ]
  },
  {
   "cell_type": "markdown",
   "metadata": {},
   "source": [
    "# Compiling the model"
   ]
  },
  {
   "cell_type": "code",
   "execution_count": 15,
   "metadata": {},
   "outputs": [
    {
     "name": "stdout",
     "output_type": "stream",
     "text": [
      "Model: \"sequential\"\n",
      "_________________________________________________________________\n",
      "Layer (type)                 Output Shape              Param #   \n",
      "=================================================================\n",
      "dense (Dense)                (None, 32)                25120     \n",
      "_________________________________________________________________\n",
      "dense_1 (Dense)              (None, 32)                1056      \n",
      "_________________________________________________________________\n",
      "dense_2 (Dense)              (None, 10)                330       \n",
      "=================================================================\n",
      "Total params: 26,506\n",
      "Trainable params: 26,506\n",
      "Non-trainable params: 0\n",
      "_________________________________________________________________\n"
     ]
    }
   ],
   "source": [
    "model.compile(\n",
    "    optimizer='adam',\n",
    "    loss='categorical_crossentropy',\n",
    "    metrics=['accuracy']\n",
    ")\n",
    "\n",
    "model.summary()"
   ]
  },
  {
   "cell_type": "markdown",
   "metadata": {},
   "source": [
    "# Fitting/Training the model"
   ]
  },
  {
   "cell_type": "code",
   "execution_count": 16,
   "metadata": {},
   "outputs": [
    {
     "name": "stdout",
     "output_type": "stream",
     "text": [
      "Epoch 1/20\n",
      "30/30 - 1s - loss: 2.1684 - accuracy: 0.3897\n",
      "Epoch 2/20\n",
      "30/30 - 1s - loss: 1.8626 - accuracy: 0.6835\n",
      "Epoch 3/20\n",
      "30/30 - 1s - loss: 1.6121 - accuracy: 0.7491\n",
      "Epoch 4/20\n",
      "30/30 - 1s - loss: 1.3868 - accuracy: 0.7852\n",
      "Epoch 5/20\n",
      "30/30 - 0s - loss: 1.1896 - accuracy: 0.8208\n",
      "Epoch 6/20\n",
      "30/30 - 0s - loss: 1.0235 - accuracy: 0.8455\n",
      "Epoch 7/20\n",
      "30/30 - 0s - loss: 0.8859 - accuracy: 0.8654\n",
      "Epoch 8/20\n",
      "30/30 - 0s - loss: 0.7725 - accuracy: 0.8785\n",
      "Epoch 9/20\n",
      "30/30 - 0s - loss: 0.6794 - accuracy: 0.8892\n",
      "Epoch 10/20\n",
      "30/30 - 0s - loss: 0.6031 - accuracy: 0.8967\n",
      "Epoch 11/20\n",
      "30/30 - 1s - loss: 0.5404 - accuracy: 0.9026\n",
      "Epoch 12/20\n",
      "30/30 - 1s - loss: 0.4899 - accuracy: 0.9076\n",
      "Epoch 13/20\n",
      "30/30 - 1s - loss: 0.4482 - accuracy: 0.9115\n",
      "Epoch 14/20\n",
      "30/30 - 1s - loss: 0.4139 - accuracy: 0.9152\n",
      "Epoch 15/20\n",
      "30/30 - 1s - loss: 0.3847 - accuracy: 0.9190\n",
      "Epoch 16/20\n",
      "30/30 - 1s - loss: 0.3609 - accuracy: 0.9219\n",
      "Epoch 17/20\n",
      "30/30 - 1s - loss: 0.3399 - accuracy: 0.9248\n",
      "Epoch 18/20\n",
      "30/30 - 1s - loss: 0.3215 - accuracy: 0.9274\n",
      "Epoch 19/20\n",
      "30/30 - 1s - loss: 0.3056 - accuracy: 0.9301\n",
      "Epoch 20/20\n",
      "30/30 - 1s - loss: 0.2919 - accuracy: 0.9322\n"
     ]
    }
   ],
   "source": [
    "_= model.fit(\n",
    "    x_train_normalised, \n",
    "    y_train_encoded,\n",
    "    epochs = 20,\n",
    "    batch_size = 2048,\n",
    "    verbose = 2\n",
    ")"
   ]
  },
  {
   "cell_type": "markdown",
   "metadata": {},
   "source": [
    "## Checking Accuracy of our model"
   ]
  },
  {
   "cell_type": "code",
   "execution_count": 17,
   "metadata": {},
   "outputs": [
    {
     "name": "stdout",
     "output_type": "stream",
     "text": [
      "313/313 [==============================] - 1s 2ms/step - loss: 0.2905 - accuracy: 0.9310\n",
      "Accuracy of model: 93.09999942779541\n"
     ]
    }
   ],
   "source": [
    "loss, accuracy = model.evaluate(x_test_normalised, y_test_encoded)\n",
    "print(\"Accuracy of model:\", accuracy*100)"
   ]
  },
  {
   "cell_type": "markdown",
   "metadata": {},
   "source": [
    "## Saving model"
   ]
  },
  {
   "cell_type": "code",
   "execution_count": 18,
   "metadata": {},
   "outputs": [],
   "source": [
    "model.save('model.h5')"
   ]
  },
  {
   "cell_type": "markdown",
   "metadata": {},
   "source": [
    "# ML Server"
   ]
  },
  {
   "cell_type": "code",
   "execution_count": 19,
   "metadata": {},
   "outputs": [
    {
     "name": "stdout",
     "output_type": "stream",
     "text": [
      "Overwriting ml_server.py\n"
     ]
    }
   ],
   "source": [
    "%%writefile ml_server.py\n",
    "\n",
    "import json\n",
    "import tensorflow as tf\n",
    "import numpy as np\n",
    "import random\n",
    "\n",
    "from flask import Flask, request\n",
    "\n",
    "app = Flask(__name__)\n",
    "\n",
    "#loading model\n",
    "model = tf.keras.models.load_model('model.h5')\n",
    "\n",
    "#creating feature function which we will use to display layers\n",
    "feature_model = tf.keras.models.Model(\n",
    "    model.input,\n",
    "    [layer.output for layer in model.layers]\n",
    ")\n",
    "\n",
    "#loadind dataset again\n",
    "_,(x_test, _) = tf.keras.datasets.mnist.load_data()\n",
    "\n",
    "#normalising test case\n",
    "x_test = (x_test - np.mean(x_test))/(np.std(x_test)+1e+10)\n",
    "\n",
    "#getting a random prediction\n",
    "def get_predictions():\n",
    "    index = np.random.choice(x_test.shape[0])\n",
    "    image = x_test[index, :, :]\n",
    "    image_arr = np.reshape(image, (1, 784))\n",
    "    return feature_model.predict(image_arrrr), image\n",
    "\n",
    "\n",
    "@app.route('/', methods = ['GET', 'POST']) #defining GET and POST request\n",
    "def index():\n",
    "    if request.method == 'POST':\n",
    "        preds, image = get_predictions()\n",
    "        final_preds = [i.tolist() for i in preds]\n",
    "        return json.dumps({\n",
    "            'prediction':final_preds,\n",
    "            'image': image.tolist()\n",
    "        })\n",
    "    return \"Welcom to the model server!\"\n",
    "\n",
    "if __name__ == '__main__':\n",
    "    app.run()"
   ]
  },
  {
   "cell_type": "markdown",
   "metadata": {},
   "source": [
    "# Streamlit Web App"
   ]
  },
  {
   "cell_type": "code",
   "execution_count": 30,
   "metadata": {},
   "outputs": [
    {
     "name": "stdout",
     "output_type": "stream",
     "text": [
      "Overwriting app.py\n"
     ]
    }
   ],
   "source": [
    "%%writefile app.py\n",
    "\n",
    "import  streamlit as st\n",
    "import json\n",
    "import numpy as np\n",
    "import requests \n",
    "import matplotlib.pyplot as plt\n",
    "\n",
    "URI = 'http://127.0.0.1:5000/'\n",
    "st.title('Nerual Network Visualizer')\n",
    "st.sidebar.markdowndown('## Input Image')\n",
    "\n",
    "if st.button('Get random predictions'):\n",
    "    response = requests.post(URI, data={})"
   ]
  },
  {
   "cell_type": "code",
   "execution_count": 26,
   "metadata": {},
   "outputs": [],
   "source": [
    "\n"
   ]
  },
  {
   "cell_type": "markdown",
   "metadata": {},
   "source": [
    "## Predicting the values"
   ]
  },
  {
   "cell_type": "code",
   "execution_count": 22,
   "metadata": {},
   "outputs": [
    {
     "name": "stdout",
     "output_type": "stream",
     "text": [
      "Shape of pred: (10000, 10)\n"
     ]
    }
   ],
   "source": [
    "preds = model.predict(x_test_normalised)\n",
    "print(\"Shape of pred:\",preds.shape)"
   ]
  },
  {
   "cell_type": "markdown",
   "metadata": {},
   "source": [
    "## Plotting a sample of predicite values and checking accuracy"
   ]
  },
  {
   "cell_type": "code",
   "execution_count": 23,
   "metadata": {},
   "outputs": [
    {
     "data": {
      "image/png": "[encoded data removed]",
      "text/plain": [
       "<Figure size 864x864 with 25 Axes>"
      ]
     },
     "metadata": {},
     "output_type": "display_data"
    }
   ],
   "source": [
    "plt.figure(figsize=(12, 12))\n",
    "\n",
    "start_index = 0\n",
    "\n",
    "for i in range(25):\n",
    "    plt.subplot(5, 5, i + 1)\n",
    "    plt.grid(False)\n",
    "    plt.xticks([])\n",
    "    plt.yticks([])\n",
    "    \n",
    "    pred = np.argmax(preds[start_index+i])\n",
    "    gt = y_test[start_index+i]\n",
    "    \n",
    "    col = 'g'\n",
    "    if pred != gt:\n",
    "        col = 'r'\n",
    "        \n",
    "    plt.xlabel('i = {} pred = {} gt = {}'.format(start_index+i, pred, gt), color = col)\n",
    "    plt.imshow(x_test[start_index+i], cmap='binary')\n",
    "plt.show()"
   ]
  },
  {
   "cell_type": "code",
   "execution_count": 24,
   "metadata": {},
   "outputs": [
    {
     "data": {
      "image/png": "[encoded data removed]",
      "text/plain": [
       "<Figure size 432x288 with 1 Axes>"
      ]
     },
     "metadata": {
      "needs_background": "light"
     },
     "output_type": "display_data"
    }
   ],
   "source": [
    "plt.plot(preds[8])\n",
    "plt.show()"
   ]
  },
  {
   "cell_type": "code",
   "execution_count": 25,
   "metadata": {},
   "outputs": [
    {
     "ename": "ModuleNotFoundError",
     "evalue": "No module named 'cv2'",
     "output_type": "error",
     "traceback": [
      "\u001b[1;31m---------------------------------------------------------------------------\u001b[0m",
      "\u001b[1;31mModuleNotFoundError\u001b[0m                       Traceback (most recent call last)",
      "\u001b[1;32m<ipython-input-25-7a0a2f97a1f7>\u001b[0m in \u001b[0;36m<module>\u001b[1;34m\u001b[0m\n\u001b[1;32m----> 1\u001b[1;33m \u001b[1;32mimport\u001b[0m \u001b[0mcv2\u001b[0m\u001b[1;33m\u001b[0m\u001b[1;33m\u001b[0m\u001b[0m\n\u001b[0m\u001b[0;32m      2\u001b[0m \u001b[1;32mfrom\u001b[0m \u001b[0mPIL\u001b[0m \u001b[1;32mimport\u001b[0m \u001b[0mImage\u001b[0m\u001b[1;33m\u001b[0m\u001b[1;33m\u001b[0m\u001b[0m\n\u001b[0;32m      3\u001b[0m \u001b[1;32mimport\u001b[0m \u001b[0mPIL\u001b[0m\u001b[1;33m.\u001b[0m\u001b[0mImageOps\u001b[0m\u001b[1;33m\u001b[0m\u001b[1;33m\u001b[0m\u001b[0m\n\u001b[0;32m      4\u001b[0m \u001b[0mim\u001b[0m \u001b[1;33m=\u001b[0m \u001b[0mcv2\u001b[0m\u001b[1;33m.\u001b[0m\u001b[0mimread\u001b[0m\u001b[1;33m(\u001b[0m\u001b[1;34m'custom_input6.jpeg'\u001b[0m\u001b[1;33m,\u001b[0m\u001b[1;36m0\u001b[0m\u001b[1;33m)\u001b[0m\u001b[1;33m\u001b[0m\u001b[1;33m\u001b[0m\u001b[0m\n\u001b[0;32m      5\u001b[0m \u001b[1;31m# im = Image.open('custom_input.jpeg')\u001b[0m\u001b[1;33m\u001b[0m\u001b[1;33m\u001b[0m\u001b[1;33m\u001b[0m\u001b[0m\n",
      "\u001b[1;31mModuleNotFoundError\u001b[0m: No module named 'cv2'"
     ]
    }
   ],
   "source": [
    "import cv2\n",
    "from PIL import Image\n",
    "import PIL.ImageOps\n",
    "im = cv2.imread('custom_input6.jpeg',0)\n",
    "# im = Image.open('custom_input.jpeg')\n",
    "ret, thresh1 = cv2.threshold(im, 120, 255, cv2.THRESH_BINARY_INV) \n",
    "cv2.imshow('Binary Threshold', thresh1) \n",
    "# inverted_image = PIL.ImageOps.invert(im)\n",
    "image28x28 = np.array(Image.fromarray(thresh1).resize((28,28)))\n",
    "# plt.imshow(image28x28)\n",
    "# inverted_image\n",
    "plt.imshow(image28x28,cmap = 'binary')\n"
   ]
  },
  {
   "cell_type": "code",
   "execution_count": null,
   "metadata": {},
   "outputs": [],
   "source": []
  },
  {
   "cell_type": "code",
   "execution_count": null,
   "metadata": {},
   "outputs": [],
   "source": []
  }
 ],
 "metadata": {
  "kernelspec": {
   "display_name": "Python 3",
   "language": "python",
   "name": "python3"
  },
  "language_info": {
   "codemirror_mode": {
    "name": "ipython",
    "version": 3
   },
   "file_extension": ".py",
   "mimetype": "text/x-python",
   "name": "python",
   "nbconvert_exporter": "python",
   "pygments_lexer": "ipython3",
   "version": "3.8.3"
  }
 },
 "nbformat": 4,
 "nbformat_minor": 4
}
