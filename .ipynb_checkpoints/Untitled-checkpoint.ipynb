{
 "cells": [
  {
   "cell_type": "markdown",
   "metadata": {},
   "source": [
    "# Importing libraries"
   ]
  },
  {
   "cell_type": "code",
   "execution_count": 1,
   "metadata": {},
   "outputs": [
    {
     "name": "stdout",
     "output_type": "stream",
     "text": [
      "tensorflow version: 2.3.0\n"
     ]
    }
   ],
   "source": [
    "import tensorflow as tf\n",
    "print(\"tensorflow version:\",tf.__version__)"
   ]
  },
  {
   "cell_type": "markdown",
   "metadata": {},
   "source": [
    "# Downloading and splitting the dataset into train and test"
   ]
  },
  {
   "cell_type": "code",
   "execution_count": 2,
   "metadata": {},
   "outputs": [],
   "source": [
    "from tensorflow.keras.datasets import mnist\n",
    "(x_train, y_train),(x_test, y_test) = mnist.load_data()"
   ]
  },
  {
   "cell_type": "markdown",
   "metadata": {},
   "source": [
    "# Checking the shape"
   ]
  },
  {
   "cell_type": "code",
   "execution_count": 3,
   "metadata": {},
   "outputs": [
    {
     "name": "stdout",
     "output_type": "stream",
     "text": [
      "x_train shape: (60000, 28, 28)\n",
      "y_train shape: (60000,)\n",
      "x_test shape: (10000, 28, 28)\n",
      "y_test shape: (10000,)\n"
     ]
    }
   ],
   "source": [
    "print(\"x_train shape:\", x_train.shape)\n",
    "print(\"y_train shape:\", y_train.shape)\n",
    "print(\"x_test shape:\", x_test.shape)\n",
    "print(\"y_test shape:\", y_test.shape)"
   ]
  },
  {
   "cell_type": "markdown",
   "metadata": {},
   "source": [
    "# Plotting an example"
   ]
  },
  {
   "cell_type": "code",
   "execution_count": 259,
   "metadata": {},
   "outputs": [
    {
     "data": {
      "text/plain": [
       "<matplotlib.image.AxesImage at 0x26903ac47f0>"
      ]
     },
     "execution_count": 259,
     "metadata": {},
     "output_type": "execute_result"
    },
    {
     "data": {
      "image/png": "[encoded data removed]",
      "text/plain": [
       "<Figure size 864x864 with 2 Axes>"
      ]
     },
     "metadata": {
      "needs_background": "light"
     },
     "output_type": "display_data"
    }
   ],
   "source": [
    "import matplotlib.pyplot as plt\n",
    "\n",
    "plt.figure(figsize=(12,12))\n",
    "plt.subplot(1,2,1)\n",
    "plt.imshow(x_train[1],cmap='binary')\n",
    "plt.subplot(1,2,2)\n",
    "plt.imshow(x_train[1])"
   ]
  },
  {
   "cell_type": "markdown",
   "metadata": {},
   "source": [
    "## checking the target values"
   ]
  },
  {
   "cell_type": "code",
   "execution_count": 5,
   "metadata": {},
   "outputs": [
    {
     "data": {
      "text/plain": [
       "0"
      ]
     },
     "execution_count": 5,
     "metadata": {},
     "output_type": "execute_result"
    }
   ],
   "source": [
    "y_train[1]"
   ]
  },
  {
   "cell_type": "markdown",
   "metadata": {},
   "source": [
    "# Extracting all the unique labels"
   ]
  },
  {
   "cell_type": "code",
   "execution_count": 6,
   "metadata": {},
   "outputs": [
    {
     "name": "stdout",
     "output_type": "stream",
     "text": [
      "{0, 1, 2, 3, 4, 5, 6, 7, 8, 9}\n"
     ]
    }
   ],
   "source": [
    "print(set(y_train))"
   ]
  },
  {
   "cell_type": "markdown",
   "metadata": {},
   "source": [
    "# One-hot Encoding the target values"
   ]
  },
  {
   "cell_type": "code",
   "execution_count": 7,
   "metadata": {},
   "outputs": [],
   "source": [
    "from tensorflow.keras.utils import to_categorical\n",
    "\n",
    "y_train_encoded = to_categorical(y_train)\n",
    "y_test_encoded = to_categorical(y_test)"
   ]
  },
  {
   "cell_type": "markdown",
   "metadata": {},
   "source": [
    "# Validating the target shape"
   ]
  },
  {
   "cell_type": "code",
   "execution_count": 8,
   "metadata": {},
   "outputs": [
    {
     "name": "stdout",
     "output_type": "stream",
     "text": [
      "y_train_encoded shape: (60000, 10)\n",
      "y_test_encoded shape: (10000, 10)\n"
     ]
    }
   ],
   "source": [
    "print(\"y_train_encoded shape:\",y_train_encoded.shape)\n",
    "print(\"y_test_encoded shape:\",y_test_encoded.shape)"
   ]
  },
  {
   "cell_type": "markdown",
   "metadata": {},
   "source": [
    "## checking one of the encoded target value"
   ]
  },
  {
   "cell_type": "code",
   "execution_count": 9,
   "metadata": {},
   "outputs": [
    {
     "name": "stdout",
     "output_type": "stream",
     "text": [
      "[1. 0. 0. 0. 0. 0. 0. 0. 0. 0.]\n"
     ]
    }
   ],
   "source": [
    "print(y_train_encoded[1])"
   ]
  },
  {
   "cell_type": "markdown",
   "metadata": {},
   "source": [
    "# Flatning the images "
   ]
  },
  {
   "cell_type": "code",
   "execution_count": 10,
   "metadata": {},
   "outputs": [
    {
     "name": "stdout",
     "output_type": "stream",
     "text": [
      "x_train_reshaped shape: (60000, 784)\n",
      "x_test_reshaped shape: (10000, 784)\n"
     ]
    }
   ],
   "source": [
    "import numpy as np\n",
    "\n",
    "x_train_reshped = np.reshape(x_train, (60000, 784))\n",
    "x_test_reshped = np.reshape(x_test, (10000, 784))\n",
    "\n",
    "print(\"x_train_reshaped shape:\",x_train_reshped.shape)\n",
    "print(\"x_test_reshaped shape:\",x_test_reshped.shape)"
   ]
  },
  {
   "cell_type": "markdown",
   "metadata": {},
   "source": [
    "## Example of flatanned image"
   ]
  },
  {
   "cell_type": "code",
   "execution_count": 11,
   "metadata": {},
   "outputs": [
    {
     "name": "stdout",
     "output_type": "stream",
     "text": [
      "{0, 6, 7, 10, 12, 19, 21, 25, 28, 29, 37, 38, 47, 48, 50, 51, 54, 56, 57, 60, 63, 71, 75, 76, 79, 84, 85, 86, 96, 112, 114, 121, 122, 128, 130, 131, 135, 141, 145, 146, 148, 159, 162, 163, 165, 167, 168, 173, 178, 179, 186, 189, 190, 195, 196, 198, 199, 202, 208, 215, 223, 224, 225, 227, 228, 229, 230, 233, 237, 238, 239, 240, 243, 246, 249, 252, 253, 255}\n"
     ]
    }
   ],
   "source": [
    "print(set(x_train_reshped[1]))"
   ]
  },
  {
   "cell_type": "markdown",
   "metadata": {},
   "source": [
    "# Normalising the dataset"
   ]
  },
  {
   "cell_type": "code",
   "execution_count": 67,
   "metadata": {},
   "outputs": [],
   "source": [
    "\n",
    "x_train_normalised = (x_train_reshped)/255\n",
    "x_test_normalised = (x_test_reshped)/255"
   ]
  },
  {
   "cell_type": "code",
   "execution_count": 68,
   "metadata": {},
   "outputs": [
    {
     "data": {
      "text/plain": [
       "array([[0., 0., 0., ..., 0., 0., 0.],\n",
       "       [0., 0., 0., ..., 0., 0., 0.],\n",
       "       [0., 0., 0., ..., 0., 0., 0.],\n",
       "       ...,\n",
       "       [0., 0., 0., ..., 0., 0., 0.],\n",
       "       [0., 0., 0., ..., 0., 0., 0.],\n",
       "       [0., 0., 0., ..., 0., 0., 0.]])"
      ]
     },
     "execution_count": 68,
     "metadata": {},
     "output_type": "execute_result"
    }
   ],
   "source": [
    "x_train_normalised"
   ]
  },
  {
   "cell_type": "markdown",
   "metadata": {},
   "source": [
    "# Creating Neural Network model"
   ]
  },
  {
   "cell_type": "code",
   "execution_count": 72,
   "metadata": {},
   "outputs": [],
   "source": [
    "from tensorflow.keras.models import Sequential\n",
    "from tensorflow.keras.layers import Dense\n",
    "\n",
    "model = Sequential([\n",
    "    Dense(32, activation='sigmoid', input_shape=(784,)),\n",
    "    Dense(32, activation='sigmoid'),\n",
    "    Dense(10, activation='softmax')\n",
    "]\n",
    ")"
   ]
  },
  {
   "cell_type": "markdown",
   "metadata": {},
   "source": [
    "# Compiling the model"
   ]
  },
  {
   "cell_type": "code",
   "execution_count": 73,
   "metadata": {},
   "outputs": [
    {
     "name": "stdout",
     "output_type": "stream",
     "text": [
      "Model: \"sequential_3\"\n",
      "_________________________________________________________________\n",
      "Layer (type)                 Output Shape              Param #   \n",
      "=================================================================\n",
      "dense_9 (Dense)              (None, 32)                25120     \n",
      "_________________________________________________________________\n",
      "dense_10 (Dense)             (None, 32)                1056      \n",
      "_________________________________________________________________\n",
      "dense_11 (Dense)             (None, 10)                330       \n",
      "=================================================================\n",
      "Total params: 26,506\n",
      "Trainable params: 26,506\n",
      "Non-trainable params: 0\n",
      "_________________________________________________________________\n"
     ]
    }
   ],
   "source": [
    "model.compile(\n",
    "    optimizer='adam',\n",
    "    loss='categorical_crossentropy',\n",
    "    metrics=['accuracy']\n",
    ")\n",
    "\n",
    "model.summary()"
   ]
  },
  {
   "cell_type": "markdown",
   "metadata": {},
   "source": [
    "# Fitting/Training the model"
   ]
  },
  {
   "cell_type": "code",
   "execution_count": 76,
   "metadata": {},
   "outputs": [
    {
     "name": "stdout",
     "output_type": "stream",
     "text": [
      "Epoch 1/20\n",
      "30/30 - 1s - loss: 0.3306 - accuracy: 0.9176\n",
      "Epoch 2/20\n",
      "30/30 - 1s - loss: 0.3183 - accuracy: 0.9195\n",
      "Epoch 3/20\n",
      "30/30 - 1s - loss: 0.3074 - accuracy: 0.9219\n",
      "Epoch 4/20\n",
      "30/30 - 1s - loss: 0.2973 - accuracy: 0.9238\n",
      "Epoch 5/20\n",
      "30/30 - 1s - loss: 0.2882 - accuracy: 0.9257\n",
      "Epoch 6/20\n",
      "30/30 - 1s - loss: 0.2799 - accuracy: 0.9273\n",
      "Epoch 7/20\n",
      "30/30 - 1s - loss: 0.2724 - accuracy: 0.9281\n",
      "Epoch 8/20\n",
      "30/30 - 1s - loss: 0.2649 - accuracy: 0.9299\n",
      "Epoch 9/20\n",
      "30/30 - 1s - loss: 0.2582 - accuracy: 0.9312\n",
      "Epoch 10/20\n",
      "30/30 - 1s - loss: 0.2520 - accuracy: 0.9330\n",
      "Epoch 11/20\n",
      "30/30 - 1s - loss: 0.2459 - accuracy: 0.9342\n",
      "Epoch 12/20\n",
      "30/30 - 1s - loss: 0.2404 - accuracy: 0.9351\n",
      "Epoch 13/20\n",
      "30/30 - 1s - loss: 0.2349 - accuracy: 0.9369\n",
      "Epoch 14/20\n",
      "30/30 - 1s - loss: 0.2298 - accuracy: 0.9380\n",
      "Epoch 15/20\n",
      "30/30 - 1s - loss: 0.2250 - accuracy: 0.9391\n",
      "Epoch 16/20\n",
      "30/30 - 1s - loss: 0.2202 - accuracy: 0.9403\n",
      "Epoch 17/20\n",
      "30/30 - 1s - loss: 0.2160 - accuracy: 0.9413\n",
      "Epoch 18/20\n",
      "30/30 - 1s - loss: 0.2117 - accuracy: 0.9426\n",
      "Epoch 19/20\n",
      "30/30 - 1s - loss: 0.2075 - accuracy: 0.9433\n",
      "Epoch 20/20\n",
      "30/30 - 1s - loss: 0.2036 - accuracy: 0.9441\n"
     ]
    }
   ],
   "source": [
    "_= model.fit(\n",
    "    x_train_normalised, \n",
    "    y_train_encoded,\n",
    "    epochs = 20,\n",
    "    batch_size = 2048,\n",
    "    verbose = 2\n",
    ")"
   ]
  },
  {
   "cell_type": "markdown",
   "metadata": {},
   "source": [
    "## Checking Accuracy of our model"
   ]
  },
  {
   "cell_type": "code",
   "execution_count": 77,
   "metadata": {},
   "outputs": [
    {
     "name": "stdout",
     "output_type": "stream",
     "text": [
      "313/313 [==============================] - 1s 2ms/step - loss: 0.2149 - accuracy: 0.9395\n",
      "Accuracy of model: 93.94999742507935\n"
     ]
    }
   ],
   "source": [
    "loss, accuracy = model.evaluate(x_test_normalised, y_test_encoded)\n",
    "print(\"Accuracy of model:\", accuracy*100)"
   ]
  },
  {
   "cell_type": "markdown",
   "metadata": {},
   "source": [
    "## Saving model"
   ]
  },
  {
   "cell_type": "code",
   "execution_count": 78,
   "metadata": {},
   "outputs": [],
   "source": [
    "model.save('model.h5')"
   ]
  },
  {
   "cell_type": "markdown",
   "metadata": {},
   "source": [
    "# Streamlit Web App"
   ]
  },
  {
   "cell_type": "code",
   "execution_count": 115,
   "metadata": {},
   "outputs": [
    {
     "name": "stdout",
     "output_type": "stream",
     "text": [
      "Overwriting app.py\n"
     ]
    }
   ],
   "source": [
    "%%writefile app.py\n",
    "\n",
    "import tensorflow as tf \n",
    "import random\n",
    "import  streamlit as st\n",
    "import numpy as np\n",
    "import matplotlib.pyplot as plt\n",
    "import cv2\n",
    "from PIL import Image, ImageOps\n",
    "import easygui\n",
    "\n",
    "model = tf.keras.models.load_model('model.h5')\n",
    "\n",
    "#creating feature function which we will use to display layers\n",
    "feature_model = tf.keras.models.Model(\n",
    "    model.input,\n",
    "    [layer.output for layer in model.layers]\n",
    ")\n",
    "\n",
    "#loadind dataset again\n",
    "_,(x_test, _) = tf.keras.datasets.mnist.load_data()\n",
    "\n",
    "#normalising test case\n",
    "x_test = x_test/255\n",
    "\n",
    "#getting a random prediction\n",
    "def get_predictions():\n",
    "    index = np.random.choice(x_test.shape[0])\n",
    "    image = x_test[index, :, :]\n",
    "    image_arr = np.reshape(image, (1, 784))\n",
    "    return feature_model.predict(image_arr), image\n",
    "\n",
    "def get_predictions_user_image(image):\n",
    "    image_arr = np.reshape(image, (1, 784))\n",
    "    return feature_model.predict(image_arr)\n",
    "\n",
    "# if __name__ == '__main__':\n",
    "#     app.run()\n",
    "    e97171\n",
    "st.set_option('deprecation.showfileUploaderEncoding', False)\n",
    "st.title('Nerual Network Visualizer')\n",
    "st.markdown('<style>h1{color: #e97171;}</style>', unsafe_allow_html=True)\n",
    "st.sidebar.markdown('<h1 style=\"color:#e97171\">Input Image</h1>', unsafe_allow_html=True)\n",
    "\n",
    "def binarize(image):\n",
    "    image = cv2.imread(image)\n",
    "    grey = cv2.cvtColor(image.copy(), cv2.COLOR_BGR2GRAY)\n",
    "    # Convert RGB to BGR \n",
    "    grey = cv2.cvtColor(image.copy(), cv2.COLOR_BGR2GRAY)\n",
    "    ret, thresh = cv2.threshold(grey.copy(), 75, 255, cv2.THRESH_BINARY_INV)\n",
    "    _, contours, _ = cv2.findContours(thresh.copy(), cv2.RETR_EXTERNAL, cv2.CHAIN_APPROX_SIMPLE)\n",
    "\n",
    "    preprocessed_digits = []\n",
    "\n",
    "    for c in contours:\n",
    "        x,y,w,h = cv2.boundingRect(c)\n",
    "\n",
    "        # Creating a rectangle around the digit in the original image (for displaying the digits fetched via contours)\n",
    "        cv2.rectangle(image, (x,y), (x+w, y+h), color=(0, 255, 0), thickness=2)\n",
    "\n",
    "        # Cropping out the digit from the image corresponding to the current contours in the for loop\n",
    "        digit = thresh[y:y+h, x:x+w]\n",
    "\n",
    "        # Resizing that digit to (18, 18)\n",
    "        resized_digit = cv2.resize(digit, (18,18))\n",
    "\n",
    "        # Padding the digit with 5 pixels of black color (zeros) in each side to finally produce the image of (28, 28)\n",
    "        padded_digit = np.pad(resized_digit, ((5,5),(5,5)), \"constant\", constant_values=0)\n",
    "\n",
    "        # Adding the preprocessed digit to the list of preprocessed digits\n",
    "        preprocessed_digits.append(padded_digit)\n",
    "    return preprocessed_digits[0]/255.0\n",
    "\n",
    "get_random = True\n",
    "\n",
    "def get_random():\n",
    "    get_random = True\n",
    "    preds, image = get_predictions()\n",
    "    final_preds = [i.tolist() for i in preds]\n",
    "    \n",
    "    pred_dict = {\n",
    "            'prediction':final_preds,\n",
    "            'image': image.tolist()\n",
    "        }\n",
    "    \n",
    "    preds = pred_dict['prediction']\n",
    "    image = pred_dict['image']\n",
    "    image = np.reshape(image, (28,28))\n",
    "    st.sidebar.image(image, width=150)\n",
    "    \n",
    "    for layer, p in enumerate(preds):\n",
    "        \n",
    "        numbers = np.squeeze(np.array(p)) #squeezing to removing the single demension\n",
    "        \n",
    "        #creating layers\n",
    "        plt.figure(figsize=(32,4))\n",
    "        \n",
    "        if layer == 2: # final output layer\n",
    "            row = 1   \n",
    "            col = 10\n",
    "        else:          # dense layer\n",
    "            row = 2\n",
    "            col = 16\n",
    "            \n",
    "        for i, number in enumerate(numbers): \n",
    "            plt.subplot(row,col,i + 1) #subploting every node\n",
    "            plt.imshow(number*np.ones((8, 8, 3)).astype('float32')) #creating 8x8 pixel dimension blocks\n",
    "            plt.xticks([])\n",
    "            plt.yticks([])\n",
    "            \n",
    "            if layer == 2:\n",
    "                plt.xlabel(str(i), fontsize = 40) #labels for the output layer\n",
    "        plt.subplots_adjust(wspace=0.05, hspace=0.05) #packing the nodes\n",
    "        plt.tight_layout()\n",
    "        st.text('Layer {}'.format(layer + 1))\n",
    "        st.pyplot()\n",
    "    st.markdown('## Final Prediction = {}'.format(np.argmax(preds[2])))\n",
    "\n",
    "def get_random_u(file_upload):\n",
    "    b_image = binarize(file_upload)\n",
    "    st.sidebar.image(b_image, width = 150)\n",
    "    preds = get_predictions_user_image((b_image))\n",
    "    final_preds = [i.tolist() for i in preds]\n",
    "\n",
    "    pred_dict = {\n",
    "            'prediction':final_preds,\n",
    "        }\n",
    "\n",
    "    preds = pred_dict['prediction']\n",
    "\n",
    "    for layer, p in enumerate(preds):\n",
    "\n",
    "        numbers = np.squeeze(np.array(p)) #squeezing to removing the single demension\n",
    "\n",
    "        #creating layers\n",
    "        plt.figure(figsize=(32,4))\n",
    "\n",
    "        if layer == 2: # final output layer\n",
    "            row = 1   \n",
    "            col = 10\n",
    "        else:          # dense layer\n",
    "            row = 2\n",
    "            col = 16\n",
    "\n",
    "        for i, number in enumerate(numbers): \n",
    "            plt.subplot(row,col,i + 1) #subploting every node\n",
    "            plt.imshow(number*np.ones((8, 8, 3)).astype('float32')) #creating 8x8 pixel dimension blocks\n",
    "            plt.xticks([])\n",
    "            plt.yticks([])\n",
    "\n",
    "            if layer == 2:\n",
    "                plt.xlabel(str(i), fontsize = 40) #labels for the output layer\n",
    "        plt.subplots_adjust(wspace=0.05, hspace=0.05) #packing the nodes\n",
    "        plt.tight_layout()\n",
    "        st.text('Layer {}'.format(layer + 1))\n",
    "        st.pyplot()\n",
    "    st.markdown('## Final Prediction = {}'.format(np.argmax(preds[2])))\n",
    "\n",
    "def main():\n",
    "    if st.button('Get random predictions'):\n",
    "        get_random()\n",
    "        file_upload = None\n",
    "\n",
    "    elif st.button('Upload'):\n",
    "        file_upload = st.file_uploader()\n",
    "        if file is not None:\n",
    "            if st.button('process'):\n",
    "                get_random_u(file_upload)\n",
    "\n",
    "if __name__ == \"__main__\":\n",
    "    main()"
   ]
  },
  {
   "cell_type": "markdown",
   "metadata": {},
   "source": [
    "# ML Server (Flask)"
   ]
  },
  {
   "cell_type": "code",
   "execution_count": 79,
   "metadata": {},
   "outputs": [
    {
     "name": "stdout",
     "output_type": "stream",
     "text": [
      "Overwriting ml_server.py\n"
     ]
    }
   ],
   "source": [
    "%%writefile ml_server.py\n",
    "\n",
    "import json\n",
    "import tensorflow as tf\n",
    "import numpy as np\n",
    "import random\n",
    "\n",
    "from flask import Flask, request\n",
    "\n",
    "app = Flask(__name__)\n",
    "\n",
    "#loading model\n",
    "model = tf.keras.models.load_model('model.h5')\n",
    "\n",
    "#creating feature function which we will use to display layers\n",
    "feature_model = tf.keras.models.Model(\n",
    "    model.input,\n",
    "    [layer.output for layer in model.layers]\n",
    ")\n",
    "\n",
    "#loadind dataset again\n",
    "_,(x_test, _) = tf.keras.datasets.mnist.load_data()\n",
    "\n",
    "#normalising test case\n",
    "x_test = x_test/255\n",
    "\n",
    "#getting a random prediction\n",
    "def get_predictions():\n",
    "    index = np.random.choice(x_test.shape[0])\n",
    "    image = x_test[index, :, :]\n",
    "    image_arr = np.reshape(image, (1, 784))\n",
    "    return feature_model.predict(image_arr), image\n",
    "\n",
    "\n",
    "@app.route('/', methods = ['GET', 'POST']) #defining GET and POST request\n",
    "def index():\n",
    "    if request.method == 'POST':\n",
    "        preds, image = get_predictions()\n",
    "        final_preds = [i.tolist() for i in preds]\n",
    "        return json.dumps({\n",
    "            'prediction':final_preds,\n",
    "            'image': image.tolist()\n",
    "        })\n",
    "    return \"Welcom to the model server!\"\n",
    "\n",
    "if __name__ == '__main__':\n",
    "    app.run()"
   ]
  },
  {
   "cell_type": "markdown",
   "metadata": {},
   "source": [
    "# Streamlit Web App 1"
   ]
  },
  {
   "cell_type": "code",
   "execution_count": 93,
   "metadata": {},
   "outputs": [
    {
     "name": "stdout",
     "output_type": "stream",
     "text": [
      "Overwriting app1.py\n"
     ]
    }
   ],
   "source": [
    "%%writefile app1.py\n",
    "\n",
    "import io\n",
    "import  streamlit as st\n",
    "import json\n",
    "import numpy as np\n",
    "import requests \n",
    "import matplotlib.pyplot as plt\n",
    "from PIL import Image, ImageOps\n",
    "\n",
    "st.set_option('deprecation.showfileUploaderEncoding', False)\n",
    "\n",
    "URI = 'http://127.0.0.1:5000'\n",
    "\n",
    "st.title('Nerual Network Visualizer')\n",
    "st.sidebar.markdown('## Input Image')\n",
    "\n",
    "if st.button('Get random predictions'):\n",
    "    response = requests.post(URI, data={})\n",
    "    response = json.loads(response.text)\n",
    "    preds = response.get('prediction')\n",
    "    image = response.get('image')\n",
    "    image = np.reshape(image, (28,28))\n",
    "    st.sidebar.image(image, width=150)\n",
    "    \n",
    "    for layer, p in enumerate(preds):\n",
    "        \n",
    "        numbers = np.squeeze(np.array(p)) #squeezing to removing the single demension\n",
    "        \n",
    "        #creating layers\n",
    "        plt.figure(figsize=(32,4))\n",
    "        \n",
    "        if layer == 2: # final output layer\n",
    "            row = 1   \n",
    "            col = 10\n",
    "        else:          # dense layer\n",
    "            row = 2\n",
    "            col = 16\n",
    "            \n",
    "        for i, number in enumerate(numbers): \n",
    "            plt.subplot(row,col,i + 1) #subploting every node\n",
    "            plt.imshow(number*np.ones((8, 8, 3)).astype('float32')) #creating 8x8 pixel dimension blocks\n",
    "            plt.xticks([])\n",
    "            plt.yticks([])\n",
    "            \n",
    "            if layer == 2:\n",
    "                plt.xlabel(str(i), fontsize = 40) #labels for the output layer\n",
    "        plt.subplots_adjust(wspace=0.05, hspace=0.05) #packing the nodes\n",
    "        plt.tight_layout()\n",
    "        st.text('Layer {}'.format(layer + 1))\n",
    "        st.pyplot()\n"
   ]
  },
  {
   "cell_type": "code",
   "execution_count": 109,
   "metadata": {},
   "outputs": [],
   "source": [
    "# %%writefile requirement.py\n",
    "import tensorflow \n",
    "import random\n",
    "import  streamlit \n",
    "import numpy \n",
    "import requests \n",
    "import matplotlib\n",
    "import cv2\n",
    "import PIL\n",
    "import easygui\n",
    "\n",
    "lib_list = [tensorflow, streamlit, numpy, matplotlib, cv2, PIL]\n",
    "lib_list2 = ['tensorflow', 'streamlit', 'numpy', 'matplotlib', 'cv2', 'PIL']\n",
    "\n",
    "dependencies = []\n",
    "for i in range(len(lib_list)):\n",
    "    with open('requirements.txt', 'a+') as file:\n",
    "        file.write('{}={}\\n'.format(lib_list2[i],lib_list[i].__version__))\n"
   ]
  },
  {
   "cell_type": "code",
   "execution_count": 110,
   "metadata": {},
   "outputs": [
    {
     "name": "stdout",
     "output_type": "stream",
     "text": [
      "Writing Procfile\n"
     ]
    }
   ],
   "source": [
    "%%writefile Procfile\n",
    "web: sh setup.sh && streamlit run rps_app.py"
   ]
  },
  {
   "cell_type": "code",
   "execution_count": 111,
   "metadata": {},
   "outputs": [
    {
     "name": "stdout",
     "output_type": "stream",
     "text": [
      "Writing setup.sh\n"
     ]
    }
   ],
   "source": [
    "%%writefile setup.sh\n",
    "mkdir -p ~/.streamlit/ echo \"\\\n",
    "[server]\\n\\\n",
    "port = $PORT\\n\\\n",
    "enableCORS = false\\n\\\n",
    "headless = true\\n\\\n",
    "\\n\\\n",
    "\" > ~/.streamlit/config.toml"
   ]
  },
  {
   "cell_type": "code",
   "execution_count": null,
   "metadata": {},
   "outputs": [],
   "source": []
  }
 ],
 "metadata": {
  "kernelspec": {
   "display_name": "Python 3",
   "language": "python",
   "name": "python3"
  },
  "language_info": {
   "codemirror_mode": {
    "name": "ipython",
    "version": 3
   },
   "file_extension": ".py",
   "mimetype": "text/x-python",
   "name": "python",
   "nbconvert_exporter": "python",
   "pygments_lexer": "ipython3",
   "version": "3.8.3"
  }
 },
 "nbformat": 4,
 "nbformat_minor": 4
}
